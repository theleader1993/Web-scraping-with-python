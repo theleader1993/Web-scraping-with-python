{
 "cells": [
  {
   "cell_type": "code",
   "execution_count": 81,
   "id": "accd032f",
   "metadata": {},
   "outputs": [],
   "source": [
    "import pandas as pd\n",
    "from selenium import webdriver\n",
    "from selenium.webdriver.common.keys import Keys\n",
    "from selenium.webdriver.common.by import By\n",
    "from datetime import datetime, timedelta\n",
    "from selenium.webdriver.support.ui import Select\n",
    "from selenium.webdriver.support.ui import WebDriverWait\n",
    "from bs4 import BeautifulSoup\n",
    "import time\n",
    "from selenium.webdriver.support import expected_conditions as EC"
   ]
  },
  {
   "cell_type": "code",
   "execution_count": 78,
   "id": "e043de2a",
   "metadata": {},
   "outputs": [
    {
     "data": {
      "text/plain": [
       "37665"
      ]
     },
     "execution_count": 78,
     "metadata": {},
     "output_type": "execute_result"
    }
   ],
   "source": [
    "driver = webdriver.Chrome('chromedriver')\n",
    "url = 'https://hosocongty.vn/'\n",
    "driver.get(url)\n",
    "#maximize window\n",
    "driver.maximize_window()\n",
    "#drop-down\n",
    "drop_down = Select(driver.find_element(By.NAME,'p'))\n",
    "drop_down.select_by_visible_text('Hồ Chí Minh')\n",
    "time.sleep(2)\n",
    "submit = driver.find_element(By.XPATH, '/html/body/div/div[1]/div[2]/div/form/input[2]').click()\n",
    "time.sleep(2)\n",
    "next_page = driver.find_element(By.CSS_SELECTOR,'div.next-page')\n",
    "number_page = int(next_page.text.split()[-1])\n",
    "number_page"
   ]
  },
  {
   "cell_type": "code",
   "execution_count": 82,
   "id": "c8e0ca2a",
   "metadata": {},
   "outputs": [],
   "source": [
    "def extract_data():\n",
    "    list_business = []\n",
    "    class_hsdn = driver.find_element(By.CLASS_NAME,'hsdn')\n",
    "    list_li = class_hsdn.find_elements(By.TAG_NAME,'li')\n",
    "    for row in list_li:\n",
    "        list_business.append(row.text)\n",
    "    return list_business"
   ]
  },
  {
   "cell_type": "code",
   "execution_count": 83,
   "id": "113bd852",
   "metadata": {},
   "outputs": [
    {
     "name": "stdout",
     "output_type": "stream",
     "text": [
      "number of page complete: 1\n",
      "2 3 4 5 6 7 8 9 10 11 12 13 14 15 16 17 18 19 20 21 22 23 24 25 26 27 28 29 30 31 32 33 34 35 36 37 38 39 40 41 42 43 44 45 46 47 48 49 50 51 52 53 54 55 56 57 58 59 60 61 62 63 64 65 66 67 68 69 70 71 72 73 74 75 76 77 78 79 80 81 82 83 84 85 86 87 88 89 90 91 92 93 94 95 96 97 98 99 100 101 102 103 104 105 106 107 108 109 110 111 112 113 114 115 116 117 118 119 120 121 122 123 124 125 126 127 128 129 130 131 132 133 134 135 136 137 138 139 140 141 142 143 144 145 146 147 148 149 150 151 152 153 154 155 156 157 158 159 160 161 162 163 164 165 166 167 168 169 170 171 172 173 174 175 176 177 178 179 180 181 182 183 184 185 186 187 188 189 190 191 192 193 194 195 196 197 198 199 200 201 202 203 204 205 206 207 208 209 210 211 212 213 214 215 216 217 218 219 220 221 222 223 224 225 226 227 228 229 230 231 232 233 234 235 236 237 238 239 240 241 242 243 244 245 246 247 248 249 250 251 252 253 254 255 256 257 258 259 260 261 262 263 264 265 266 267 268 269 270 271 272 273 274 275 276 277 278 279 280 281 282 283 284 285 286 287 288 289 290 291 292 293 294 295 296 297 298 299 300 301 302 303 304 305 306 307 308 309 310 311 312 313 314 315 316 317 318 319 320 321 322 323 324 325 326 327 328 329 330 331 332 333 334 335 336 337 338 339 340 341 342 343 344 345 346 347 348 349 350 351 352 353 354 355 356 357 358 359 360 361 362 363 364 365 366 367 368 369 370 371 372 373 374 375 376 377 378 379 380 381 382 383 384 385 386 387 388 389 390 391 392 393 394 395 396 397 398 399 400 401 402 403 404 405 406 407 408 409 410 411 412 413 414 415 416 417 418 419 420 421 422 423 424 425 426 427 428 429 430 431 432 433 434 435 436 437 438 439 440 441 442 443 444 445 446 447 448 449 450 451 452 453 454 455 456 457 458 459 460 461 462 463 464 465 466 467 468 469 470 471 472 473 474 475 476 477 478 479 480 481 482 483 484 485 486 487 488 489 490 491 492 493 494 495 496 497 498 499 500 501 502 503 504 505 506 507 508 509 510 511 512 513 514 515 516 517 518 519 520 521 522 523 524 525 526 527 528 529 530 531 532 533 534 535 536 537 538 539 540 541 542 543 544 545 546 547 548 549 550 551 552 553 554 555 556 557 558 559 560 561 562 563 564 565 566 567 568 569 570 571 572 573 574 575 576 577 578 579 580 581 582 583 584 585 586 587 588 589 590 591 592 593 594 595 596 597 598 599 600 601 602 603 604 605 606 607 608 609 610 611 612 613 614 615 616 617 618 619 620 621 622 623 624 625 626 627 628 629 630 631 632 633 634 635 636 637 638 639 640 641 642 643 644 645 646 647 648 649 650 651 652 653 654 655 656 657 658 659 660 661 662 663 664 665 666 667 668 669 670 671 672 673 674 675 676 677 678 679 680 681 682 683 684 685 686 687 688 689 690 691 692 693 694 695 696 697 698 699 700 701 702 703 704 705 706 707 708 709 710 711 712 713 714 715 716 717 718 719 720 721 722 723 724 725 726 727 728 729 730 731 732 733 734 735 736 737 738 739 740 741 742 743 744 745 746 747 748 749 750 751 752 "
     ]
    }
   ],
   "source": [
    "list_result = extract_data()\n",
    "print('number of page complete: 1')\n",
    "for i in range(2,number_page//50):\n",
    "    url_dn = 'https://hosocongty.vn/p/ho-chi-minh/page-' + str(i)\n",
    "    driver.get(url_dn)\n",
    "    time.sleep(2)\n",
    "    list_result.extend(extract_data())\n",
    "    print(f\"{i}\", end = ' ')"
   ]
  },
  {
   "cell_type": "code",
   "execution_count": 113,
   "id": "ed1f617a",
   "metadata": {},
   "outputs": [
    {
     "name": "stdout",
     "output_type": "stream",
     "text": [
      "18048\n"
     ]
    },
    {
     "data": {
      "text/plain": [
       "['CHI NHÁNH CÔNG TY TNHH THƯƠNG MẠI HÂN PHÁT VN\\nĐịa chỉ: 240/37F Đường Nguyễn Văn Luông, Phường 11, Quận 6, Tp Hồ Chí Minh\\nMã số thuế: 0317062083-001',\n",
       " 'CÔNG TY CỔ PHẦN DỊCH VỤ THƯƠNG MẠI TỔNG HỢP PM - CHI NHÁNH QUẬN 4\\nĐịa chỉ: Số 2 Đường Số 40, Phường 04, Quận 4, Tp Hồ Chí Minh\\nMã số thuế: 0317081576-001',\n",
       " 'CHI NHÁNH BÌNH TÂN - CÔNG TY TNHH TRUYỀN THÔNG QUẢNG CÁO RUBY\\nĐịa chỉ: 410A Chiến Lược, Phường Bình Trị Đông A, Quận Bình Tân, Tp Hồ Chí Minh\\nMã số thuế: 0317130551-001',\n",
       " 'VĂN PHÒNG ĐẠI DIỆN CÔNG TY TNHH ĐẦU TƯ VÀ DỊCH VỤ GIA NGUYỄN\\nĐịa chỉ: 38A Lê Văn Huân, Phường 13, Quận Tân Bình, Tp Hồ Chí Minh\\nMã số thuế: 0317144709-001',\n",
       " '',\n",
       " 'CHI NHÁNH CÔNG TY TNHH NƯỚC ĐÁ NGỌC OANH ICE\\nĐịa chỉ: 140 Trần Bình Trọng, Phường 01, Quận 10, Tp Hồ Chí Minh\\nMã số thuế: 0317221745-001',\n",
       " 'CHI NHÁNH CÔNG TY TNHH ĐẦU TƯ THƯƠNG MẠI BÍCH QUÂN\\nĐịa chỉ: Số 251A Đường Nguyễn Văn Luông, Phường 11, Quận 6, Tp Hồ Chí Minh\\nMã số thuế: 0317284706-004',\n",
       " 'CHI NHÁNH CÔNG TY TNHH MORITZ OFFICE\\nĐịa chỉ: Số 11 Nguyễn Huy Tưởng, Phường 6, Quận Bình Thạnh, Tp Hồ Chí Minh\\nMã số thuế: 0317308989-001',\n",
       " 'CHI NHÁNH CÔNG TY TNHH MEGA FROST VN\\nĐịa chỉ: 254/17K Tổ 7, Khu Phố 3, Đường Dương Đình Hội, Phường Tăng Nhơn Phú B, Thành Phố Thủ Đức, Tp Hồ Chí Minh\\nMã số thuế: 0317353036-001',\n",
       " 'CHI NHÁNH CÔNG TY TNHH CƠ KHÍ K.P.V\\nĐịa chỉ: 24 Đường Tl40, Khu Phố 1, Phường Thạnh Lộc, Quận 12, Tp Hồ Chí Minh\\nMã số thuế: 0317369050-001']"
      ]
     },
     "execution_count": 113,
     "metadata": {},
     "output_type": "execute_result"
    }
   ],
   "source": [
    "print(len(list_result))\n",
    "list_result[:10]"
   ]
  },
  {
   "cell_type": "code",
   "execution_count": 93,
   "id": "3e66a5dc",
   "metadata": {},
   "outputs": [
    {
     "data": {
      "text/html": [
       "<div>\n",
       "<style scoped>\n",
       "    .dataframe tbody tr th:only-of-type {\n",
       "        vertical-align: middle;\n",
       "    }\n",
       "\n",
       "    .dataframe tbody tr th {\n",
       "        vertical-align: top;\n",
       "    }\n",
       "\n",
       "    .dataframe thead th {\n",
       "        text-align: right;\n",
       "    }\n",
       "</style>\n",
       "<table border=\"1\" class=\"dataframe\">\n",
       "  <thead>\n",
       "    <tr style=\"text-align: right;\">\n",
       "      <th></th>\n",
       "      <th>Company_Name</th>\n",
       "      <th>Address</th>\n",
       "      <th>Tax_code</th>\n",
       "    </tr>\n",
       "  </thead>\n",
       "  <tbody>\n",
       "    <tr>\n",
       "      <th>0</th>\n",
       "      <td>CHI NHÁNH CÔNG TY TNHH THƯƠNG MẠI HÂN PHÁT VN</td>\n",
       "      <td>Địa chỉ: 240/37F Đường Nguyễn Văn Luông, Phườn...</td>\n",
       "      <td>Mã số thuế: 0317062083-001</td>\n",
       "    </tr>\n",
       "    <tr>\n",
       "      <th>1</th>\n",
       "      <td>CÔNG TY CỔ PHẦN DỊCH VỤ THƯƠNG MẠI TỔNG HỢP PM...</td>\n",
       "      <td>Địa chỉ: Số 2 Đường Số 40, Phường 04, Quận 4, ...</td>\n",
       "      <td>Mã số thuế: 0317081576-001</td>\n",
       "    </tr>\n",
       "    <tr>\n",
       "      <th>2</th>\n",
       "      <td>CHI NHÁNH BÌNH TÂN - CÔNG TY TNHH TRUYỀN THÔNG...</td>\n",
       "      <td>Địa chỉ: 410A Chiến Lược, Phường Bình Trị Đông...</td>\n",
       "      <td>Mã số thuế: 0317130551-001</td>\n",
       "    </tr>\n",
       "    <tr>\n",
       "      <th>3</th>\n",
       "      <td>VĂN PHÒNG ĐẠI DIỆN CÔNG TY TNHH ĐẦU TƯ VÀ DỊCH...</td>\n",
       "      <td>Địa chỉ: 38A Lê Văn Huân, Phường 13, Quận Tân ...</td>\n",
       "      <td>Mã số thuế: 0317144709-001</td>\n",
       "    </tr>\n",
       "    <tr>\n",
       "      <th>5</th>\n",
       "      <td>CHI NHÁNH CÔNG TY TNHH NƯỚC ĐÁ NGỌC OANH ICE</td>\n",
       "      <td>Địa chỉ: 140 Trần Bình Trọng, Phường 01, Quận ...</td>\n",
       "      <td>Mã số thuế: 0317221745-001</td>\n",
       "    </tr>\n",
       "    <tr>\n",
       "      <th>...</th>\n",
       "      <td>...</td>\n",
       "      <td>...</td>\n",
       "      <td>...</td>\n",
       "    </tr>\n",
       "    <tr>\n",
       "      <th>18042</th>\n",
       "      <td>CÔNG TY TNHH THANH TÂN FOOD</td>\n",
       "      <td>Địa chỉ: 8 Đường 69, Phường Tân Quy, Quận 7, T...</td>\n",
       "      <td>Mã số thuế: 0317286478</td>\n",
       "    </tr>\n",
       "    <tr>\n",
       "      <th>18043</th>\n",
       "      <td>CÔNG TY TNHH THƯƠNG MẠI DỊCH VỤ BẤT ĐỘNG SẢN D...</td>\n",
       "      <td>Địa chỉ: Lô R4-22 Hưng Gia 4, Đường Phan Khiêm...</td>\n",
       "      <td>Mã số thuế: 0317286774</td>\n",
       "    </tr>\n",
       "    <tr>\n",
       "      <th>18044</th>\n",
       "      <td>CÔNG TY TNHH TMDV DI HI</td>\n",
       "      <td>Địa chỉ: 16C Hưng Phú, Phường 9, Quận 8, Thành...</td>\n",
       "      <td>Mã số thuế: 0317286936</td>\n",
       "    </tr>\n",
       "    <tr>\n",
       "      <th>18045</th>\n",
       "      <td>CÔNG TY TNHH NHÀ HÀNG CỔ THỤ QUÁN</td>\n",
       "      <td>Địa chỉ: 545 Nguyễn Xiển, khu phố Gò Công, Phư...</td>\n",
       "      <td>Mã số thuế: 0317286830</td>\n",
       "    </tr>\n",
       "    <tr>\n",
       "      <th>18047</th>\n",
       "      <td>CÔNG TY TNHH THƯƠNG MẠI VÀ DỊCH VỤ C.O POTENTIAL</td>\n",
       "      <td>Địa chỉ: 80/71 Trần Quang Diệu, Phường 14, Quậ...</td>\n",
       "      <td>Mã số thuế: 0317286340</td>\n",
       "    </tr>\n",
       "  </tbody>\n",
       "</table>\n",
       "<p>15040 rows × 3 columns</p>\n",
       "</div>"
      ],
      "text/plain": [
       "                                            Company_Name  \\\n",
       "0          CHI NHÁNH CÔNG TY TNHH THƯƠNG MẠI HÂN PHÁT VN   \n",
       "1      CÔNG TY CỔ PHẦN DỊCH VỤ THƯƠNG MẠI TỔNG HỢP PM...   \n",
       "2      CHI NHÁNH BÌNH TÂN - CÔNG TY TNHH TRUYỀN THÔNG...   \n",
       "3      VĂN PHÒNG ĐẠI DIỆN CÔNG TY TNHH ĐẦU TƯ VÀ DỊCH...   \n",
       "5           CHI NHÁNH CÔNG TY TNHH NƯỚC ĐÁ NGỌC OANH ICE   \n",
       "...                                                  ...   \n",
       "18042                        CÔNG TY TNHH THANH TÂN FOOD   \n",
       "18043  CÔNG TY TNHH THƯƠNG MẠI DỊCH VỤ BẤT ĐỘNG SẢN D...   \n",
       "18044                            CÔNG TY TNHH TMDV DI HI   \n",
       "18045                  CÔNG TY TNHH NHÀ HÀNG CỔ THỤ QUÁN   \n",
       "18047   CÔNG TY TNHH THƯƠNG MẠI VÀ DỊCH VỤ C.O POTENTIAL   \n",
       "\n",
       "                                                 Address  \\\n",
       "0      Địa chỉ: 240/37F Đường Nguyễn Văn Luông, Phườn...   \n",
       "1      Địa chỉ: Số 2 Đường Số 40, Phường 04, Quận 4, ...   \n",
       "2      Địa chỉ: 410A Chiến Lược, Phường Bình Trị Đông...   \n",
       "3      Địa chỉ: 38A Lê Văn Huân, Phường 13, Quận Tân ...   \n",
       "5      Địa chỉ: 140 Trần Bình Trọng, Phường 01, Quận ...   \n",
       "...                                                  ...   \n",
       "18042  Địa chỉ: 8 Đường 69, Phường Tân Quy, Quận 7, T...   \n",
       "18043  Địa chỉ: Lô R4-22 Hưng Gia 4, Đường Phan Khiêm...   \n",
       "18044  Địa chỉ: 16C Hưng Phú, Phường 9, Quận 8, Thành...   \n",
       "18045  Địa chỉ: 545 Nguyễn Xiển, khu phố Gò Công, Phư...   \n",
       "18047  Địa chỉ: 80/71 Trần Quang Diệu, Phường 14, Quậ...   \n",
       "\n",
       "                         Tax_code  \n",
       "0      Mã số thuế: 0317062083-001  \n",
       "1      Mã số thuế: 0317081576-001  \n",
       "2      Mã số thuế: 0317130551-001  \n",
       "3      Mã số thuế: 0317144709-001  \n",
       "5      Mã số thuế: 0317221745-001  \n",
       "...                           ...  \n",
       "18042      Mã số thuế: 0317286478  \n",
       "18043      Mã số thuế: 0317286774  \n",
       "18044      Mã số thuế: 0317286936  \n",
       "18045      Mã số thuế: 0317286830  \n",
       "18047      Mã số thuế: 0317286340  \n",
       "\n",
       "[15040 rows x 3 columns]"
      ]
     },
     "execution_count": 93,
     "metadata": {},
     "output_type": "execute_result"
    }
   ],
   "source": [
    "df = pd.DataFrame(list_result, columns = ['raw_data'])\n",
    "nan_value = float(\"NaN\")\n",
    "df.replace(\"\", nan_value, inplace=True)\n",
    "df.dropna(inplace=True)\n",
    "profiles_company = df['raw_data'].str.split('\\n', expand =True)\n",
    "profiles_company.columns = ['Company_Name','Address','Tax_code']\n",
    "profiles_company"
   ]
  },
  {
   "cell_type": "code",
   "execution_count": 105,
   "id": "da1f7273",
   "metadata": {},
   "outputs": [
    {
     "data": {
      "text/plain": [
       "Int64Index([  864,   865,   866,   867,   869,   870,   871,   872,   873,\n",
       "              875,   876,   877,   878,   879,   881,   882,   883,   884,\n",
       "              885,   887,  9179, 13634, 14618],\n",
       "           dtype='int64')"
      ]
     },
     "execution_count": 105,
     "metadata": {},
     "output_type": "execute_result"
    }
   ],
   "source": [
    "index_duplicated = profiles_company[profiles_company.duplicated()].index\n",
    "index_duplicated"
   ]
  },
  {
   "cell_type": "code",
   "execution_count": 106,
   "id": "2bfa111b",
   "metadata": {},
   "outputs": [],
   "source": [
    "profiles_company.drop(index = index_duplicated, axis = 0, inplace=True)"
   ]
  },
  {
   "cell_type": "code",
   "execution_count": 109,
   "id": "d1c730f5",
   "metadata": {},
   "outputs": [
    {
     "data": {
      "text/plain": [
       "False    15017\n",
       "dtype: int64"
      ]
     },
     "execution_count": 109,
     "metadata": {},
     "output_type": "execute_result"
    }
   ],
   "source": [
    "profiles_company.duplicated().value_counts()"
   ]
  },
  {
   "cell_type": "code",
   "execution_count": 110,
   "id": "91726984",
   "metadata": {},
   "outputs": [
    {
     "data": {
      "text/html": [
       "<div>\n",
       "<style scoped>\n",
       "    .dataframe tbody tr th:only-of-type {\n",
       "        vertical-align: middle;\n",
       "    }\n",
       "\n",
       "    .dataframe tbody tr th {\n",
       "        vertical-align: top;\n",
       "    }\n",
       "\n",
       "    .dataframe thead th {\n",
       "        text-align: right;\n",
       "    }\n",
       "</style>\n",
       "<table border=\"1\" class=\"dataframe\">\n",
       "  <thead>\n",
       "    <tr style=\"text-align: right;\">\n",
       "      <th></th>\n",
       "      <th>Company_Name</th>\n",
       "      <th>Address</th>\n",
       "      <th>Tax_code</th>\n",
       "    </tr>\n",
       "  </thead>\n",
       "  <tbody>\n",
       "    <tr>\n",
       "      <th>0</th>\n",
       "      <td>CHI NHÁNH CÔNG TY TNHH THƯƠNG MẠI HÂN PHÁT VN</td>\n",
       "      <td>Địa chỉ: 240/37F Đường Nguyễn Văn Luông, Phườn...</td>\n",
       "      <td>Mã số thuế: 0317062083-001</td>\n",
       "    </tr>\n",
       "    <tr>\n",
       "      <th>1</th>\n",
       "      <td>CÔNG TY CỔ PHẦN DỊCH VỤ THƯƠNG MẠI TỔNG HỢP PM...</td>\n",
       "      <td>Địa chỉ: Số 2 Đường Số 40, Phường 04, Quận 4, ...</td>\n",
       "      <td>Mã số thuế: 0317081576-001</td>\n",
       "    </tr>\n",
       "    <tr>\n",
       "      <th>2</th>\n",
       "      <td>CHI NHÁNH BÌNH TÂN - CÔNG TY TNHH TRUYỀN THÔNG...</td>\n",
       "      <td>Địa chỉ: 410A Chiến Lược, Phường Bình Trị Đông...</td>\n",
       "      <td>Mã số thuế: 0317130551-001</td>\n",
       "    </tr>\n",
       "    <tr>\n",
       "      <th>3</th>\n",
       "      <td>VĂN PHÒNG ĐẠI DIỆN CÔNG TY TNHH ĐẦU TƯ VÀ DỊCH...</td>\n",
       "      <td>Địa chỉ: 38A Lê Văn Huân, Phường 13, Quận Tân ...</td>\n",
       "      <td>Mã số thuế: 0317144709-001</td>\n",
       "    </tr>\n",
       "    <tr>\n",
       "      <th>5</th>\n",
       "      <td>CHI NHÁNH CÔNG TY TNHH NƯỚC ĐÁ NGỌC OANH ICE</td>\n",
       "      <td>Địa chỉ: 140 Trần Bình Trọng, Phường 01, Quận ...</td>\n",
       "      <td>Mã số thuế: 0317221745-001</td>\n",
       "    </tr>\n",
       "    <tr>\n",
       "      <th>...</th>\n",
       "      <td>...</td>\n",
       "      <td>...</td>\n",
       "      <td>...</td>\n",
       "    </tr>\n",
       "    <tr>\n",
       "      <th>18042</th>\n",
       "      <td>CÔNG TY TNHH THANH TÂN FOOD</td>\n",
       "      <td>Địa chỉ: 8 Đường 69, Phường Tân Quy, Quận 7, T...</td>\n",
       "      <td>Mã số thuế: 0317286478</td>\n",
       "    </tr>\n",
       "    <tr>\n",
       "      <th>18043</th>\n",
       "      <td>CÔNG TY TNHH THƯƠNG MẠI DỊCH VỤ BẤT ĐỘNG SẢN D...</td>\n",
       "      <td>Địa chỉ: Lô R4-22 Hưng Gia 4, Đường Phan Khiêm...</td>\n",
       "      <td>Mã số thuế: 0317286774</td>\n",
       "    </tr>\n",
       "    <tr>\n",
       "      <th>18044</th>\n",
       "      <td>CÔNG TY TNHH TMDV DI HI</td>\n",
       "      <td>Địa chỉ: 16C Hưng Phú, Phường 9, Quận 8, Thành...</td>\n",
       "      <td>Mã số thuế: 0317286936</td>\n",
       "    </tr>\n",
       "    <tr>\n",
       "      <th>18045</th>\n",
       "      <td>CÔNG TY TNHH NHÀ HÀNG CỔ THỤ QUÁN</td>\n",
       "      <td>Địa chỉ: 545 Nguyễn Xiển, khu phố Gò Công, Phư...</td>\n",
       "      <td>Mã số thuế: 0317286830</td>\n",
       "    </tr>\n",
       "    <tr>\n",
       "      <th>18047</th>\n",
       "      <td>CÔNG TY TNHH THƯƠNG MẠI VÀ DỊCH VỤ C.O POTENTIAL</td>\n",
       "      <td>Địa chỉ: 80/71 Trần Quang Diệu, Phường 14, Quậ...</td>\n",
       "      <td>Mã số thuế: 0317286340</td>\n",
       "    </tr>\n",
       "  </tbody>\n",
       "</table>\n",
       "<p>15017 rows × 3 columns</p>\n",
       "</div>"
      ],
      "text/plain": [
       "                                            Company_Name  \\\n",
       "0          CHI NHÁNH CÔNG TY TNHH THƯƠNG MẠI HÂN PHÁT VN   \n",
       "1      CÔNG TY CỔ PHẦN DỊCH VỤ THƯƠNG MẠI TỔNG HỢP PM...   \n",
       "2      CHI NHÁNH BÌNH TÂN - CÔNG TY TNHH TRUYỀN THÔNG...   \n",
       "3      VĂN PHÒNG ĐẠI DIỆN CÔNG TY TNHH ĐẦU TƯ VÀ DỊCH...   \n",
       "5           CHI NHÁNH CÔNG TY TNHH NƯỚC ĐÁ NGỌC OANH ICE   \n",
       "...                                                  ...   \n",
       "18042                        CÔNG TY TNHH THANH TÂN FOOD   \n",
       "18043  CÔNG TY TNHH THƯƠNG MẠI DỊCH VỤ BẤT ĐỘNG SẢN D...   \n",
       "18044                            CÔNG TY TNHH TMDV DI HI   \n",
       "18045                  CÔNG TY TNHH NHÀ HÀNG CỔ THỤ QUÁN   \n",
       "18047   CÔNG TY TNHH THƯƠNG MẠI VÀ DỊCH VỤ C.O POTENTIAL   \n",
       "\n",
       "                                                 Address  \\\n",
       "0      Địa chỉ: 240/37F Đường Nguyễn Văn Luông, Phườn...   \n",
       "1      Địa chỉ: Số 2 Đường Số 40, Phường 04, Quận 4, ...   \n",
       "2      Địa chỉ: 410A Chiến Lược, Phường Bình Trị Đông...   \n",
       "3      Địa chỉ: 38A Lê Văn Huân, Phường 13, Quận Tân ...   \n",
       "5      Địa chỉ: 140 Trần Bình Trọng, Phường 01, Quận ...   \n",
       "...                                                  ...   \n",
       "18042  Địa chỉ: 8 Đường 69, Phường Tân Quy, Quận 7, T...   \n",
       "18043  Địa chỉ: Lô R4-22 Hưng Gia 4, Đường Phan Khiêm...   \n",
       "18044  Địa chỉ: 16C Hưng Phú, Phường 9, Quận 8, Thành...   \n",
       "18045  Địa chỉ: 545 Nguyễn Xiển, khu phố Gò Công, Phư...   \n",
       "18047  Địa chỉ: 80/71 Trần Quang Diệu, Phường 14, Quậ...   \n",
       "\n",
       "                         Tax_code  \n",
       "0      Mã số thuế: 0317062083-001  \n",
       "1      Mã số thuế: 0317081576-001  \n",
       "2      Mã số thuế: 0317130551-001  \n",
       "3      Mã số thuế: 0317144709-001  \n",
       "5      Mã số thuế: 0317221745-001  \n",
       "...                           ...  \n",
       "18042      Mã số thuế: 0317286478  \n",
       "18043      Mã số thuế: 0317286774  \n",
       "18044      Mã số thuế: 0317286936  \n",
       "18045      Mã số thuế: 0317286830  \n",
       "18047      Mã số thuế: 0317286340  \n",
       "\n",
       "[15017 rows x 3 columns]"
      ]
     },
     "execution_count": 110,
     "metadata": {},
     "output_type": "execute_result"
    }
   ],
   "source": [
    "profiles_company"
   ]
  },
  {
   "cell_type": "code",
   "execution_count": 111,
   "id": "8de17a2f",
   "metadata": {},
   "outputs": [
    {
     "name": "stdout",
     "output_type": "stream",
     "text": [
      "complete\n"
     ]
    }
   ],
   "source": [
    "#cuối cùng convert sang file csv để lưu trữ\n",
    "profiles_company.to_csv(r'C:\\Users\\daodq\\Desktop\\dataset\\profiles_company.csv', index =False)\n",
    "print('complete')"
   ]
  },
  {
   "cell_type": "code",
   "execution_count": null,
   "id": "b3115dd6",
   "metadata": {},
   "outputs": [],
   "source": []
  }
 ],
 "metadata": {
  "kernelspec": {
   "display_name": "Python 3 (ipykernel)",
   "language": "python",
   "name": "python3"
  },
  "language_info": {
   "codemirror_mode": {
    "name": "ipython",
    "version": 3
   },
   "file_extension": ".py",
   "mimetype": "text/x-python",
   "name": "python",
   "nbconvert_exporter": "python",
   "pygments_lexer": "ipython3",
   "version": "3.9.7"
  }
 },
 "nbformat": 4,
 "nbformat_minor": 5
}
